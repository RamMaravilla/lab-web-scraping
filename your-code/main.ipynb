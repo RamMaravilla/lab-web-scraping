{
 "cells": [
  {
   "cell_type": "markdown",
   "metadata": {},
   "source": [
    "# Web Scraping Lab\n",
    "\n",
    "You will find in this notebook some scrapy exercises to practise your scraping skills.\n",
    "\n",
    "**Tips:**\n",
    "\n",
    "- Check the response status code for each request to ensure you have obtained the intended contennt.\n",
    "- Print the response text in each request to understand the kind of info you are getting and its format.\n",
    "- Check for patterns in the response text to extract the data/info requested in each question.\n",
    "- Visit each url and take a look at its source through Chrome DevTools. You'll need to identify the html tags, special class names etc. used for the html content you are expected to extract."
   ]
  },
  {
   "cell_type": "markdown",
   "metadata": {},
   "source": [
    "- [Requests library](http://docs.python-requests.org/en/master/#the-user-guide) documentation \n",
    "- [Beautiful Soup Doc](https://www.crummy.com/software/BeautifulSoup/bs4/doc/)\n",
    "- [Urllib](https://docs.python.org/3/library/urllib.html#module-urllib)\n",
    "- [re lib](https://docs.python.org/3/library/re.html)\n",
    "- [lxml lib](https://lxml.de/)\n",
    "- [Scrapy](https://scrapy.org/)\n",
    "- [List of HTTP status codes](https://en.wikipedia.org/wiki/List_of_HTTP_status_codes)\n",
    "- [HTML basics](http://www.simplehtmlguide.com/cheatsheet.php)\n",
    "- [CSS basics](https://www.cssbasics.com/#page_start)"
   ]
  },
  {
   "cell_type": "markdown",
   "metadata": {},
   "source": [
    "#### Below are the libraries and modules you may need. `requests`,  `BeautifulSoup` and `pandas` are imported for you. If you prefer to use additional libraries feel free to uncomment them."
   ]
  },
  {
   "cell_type": "code",
   "execution_count": 12,
   "metadata": {},
   "outputs": [],
   "source": [
    "import requests\n",
    "from bs4 import BeautifulSoup\n",
    "import pandas as pd\n",
    "from pprint import pprint\n",
    "from lxml import html\n",
    "from lxml.html import fromstring\n",
    "import urllib.request\n",
    "from urllib.request import urlopen\n",
    "import random\n",
    "import re\n",
    "#import scrapy"
   ]
  },
  {
   "cell_type": "markdown",
   "metadata": {},
   "source": [
    "#### Download, parse (using BeautifulSoup), and print the content from the Trending Developers page from GitHub:"
   ]
  },
  {
   "cell_type": "code",
   "execution_count": 13,
   "metadata": {},
   "outputs": [],
   "source": [
    "# This is the url you will scrape in this exercise\n",
    "url = 'https://github.com/trending/developers'"
   ]
  },
  {
   "cell_type": "code",
   "execution_count": 15,
   "metadata": {},
   "outputs": [],
   "source": [
    "#your code\n",
    "html = requests.get(url).content #OBTIENE LA INFO DEL HTLM\n",
    "soup = BeautifulSoup(html,features=\"html.parser\") #LO HACE EN LA SOPA\n"
   ]
  },
  {
   "cell_type": "code",
   "execution_count": 22,
   "metadata": {},
   "outputs": [
    {
     "data": {
      "text/plain": [
       "[<h1 class=\"h3 lh-condensed\">\n",
       " <a href=\"/jaredpalmer\">\n",
       "             Jared Palmer\n",
       " </a>\n",
       " </h1>, <h1 class=\"h3 lh-condensed\">\n",
       " <a href=\"/Rich-Harris\">\n",
       "             Rich Harris\n",
       " </a>\n",
       " </h1>, <h1 class=\"h3 lh-condensed\">\n",
       " <a href=\"/MilosKozak\">\n",
       "             Milos Kozak\n",
       " </a>\n",
       " </h1>, <h1 class=\"h3 lh-condensed\">\n",
       " <a href=\"/kishikawakatsumi\">\n",
       "             Kishikawa Katsumi\n",
       " </a>\n",
       " </h1>, <h1 class=\"h3 lh-condensed\">\n",
       " <a href=\"/fzaninotto\">\n",
       "             Francois Zaninotto\n",
       " </a>\n",
       " </h1>, <h1 class=\"h3 lh-condensed\">\n",
       " <a href=\"/unknwon\">\n",
       "             Unknwon\n",
       " </a>\n",
       " </h1>, <h1 class=\"h3 lh-condensed\">\n",
       " <a href=\"/jonahwilliams\">\n",
       "             Jonah Williams\n",
       " </a>\n",
       " </h1>, <h1 class=\"h3 lh-condensed\">\n",
       " <a href=\"/alexellis\">\n",
       "             Alex Ellis\n",
       " </a>\n",
       " </h1>, <h1 class=\"h3 lh-condensed\">\n",
       " <a href=\"/wincent\">\n",
       "             Greg Hurrell\n",
       " </a>\n",
       " </h1>, <h1 class=\"h3 lh-condensed\">\n",
       " <a href=\"/borkdude\">\n",
       "             Michiel Borkent\n",
       " </a>\n",
       " </h1>, <h1 class=\"h3 lh-condensed\">\n",
       " <a href=\"/panva\">\n",
       "             Filip Skokan\n",
       " </a>\n",
       " </h1>, <h1 class=\"h3 lh-condensed\">\n",
       " <a href=\"/bvaughn\">\n",
       "             Brian Vaughn\n",
       " </a>\n",
       " </h1>, <h1 class=\"h3 lh-condensed\">\n",
       " <a href=\"/Araq\">\n",
       "             Andreas Rumpf\n",
       " </a>\n",
       " </h1>, <h1 class=\"h3 lh-condensed\">\n",
       " <a href=\"/alexreardon\">\n",
       "             Alex Reardon\n",
       " </a>\n",
       " </h1>, <h1 class=\"h3 lh-condensed\">\n",
       " <a href=\"/tarcieri\">\n",
       "             Tony Arcieri\n",
       " </a>\n",
       " </h1>, <h1 class=\"h3 lh-condensed\">\n",
       " <a href=\"/atomiks\">\n",
       "             atomiks\n",
       " </a>\n",
       " </h1>, <h1 class=\"h3 lh-condensed\">\n",
       " <a href=\"/matthewp\">\n",
       "             Matthew Phillips\n",
       " </a>\n",
       " </h1>, <h1 class=\"h3 lh-condensed\">\n",
       " <a href=\"/sharkdp\">\n",
       "             David Peter\n",
       " </a>\n",
       " </h1>, <h1 class=\"h3 lh-condensed\">\n",
       " <a href=\"/klauspost\">\n",
       "             Klaus Post\n",
       " </a>\n",
       " </h1>, <h1 class=\"h3 lh-condensed\">\n",
       " <a href=\"/rrousselGit\">\n",
       "             Remi Rousselet\n",
       " </a>\n",
       " </h1>, <h1 class=\"h3 lh-condensed\">\n",
       " <a href=\"/rbuckton\">\n",
       "             Ron Buckton\n",
       " </a>\n",
       " </h1>, <h1 class=\"h3 lh-condensed\">\n",
       " <a href=\"/liuchengxu\">\n",
       "             Liu-Cheng Xu\n",
       " </a>\n",
       " </h1>, <h1 class=\"h3 lh-condensed\">\n",
       " <a href=\"/cartermp\">\n",
       "             Phillip Carter\n",
       " </a>\n",
       " </h1>, <h1 class=\"h3 lh-condensed\">\n",
       " <a href=\"/nikolasburk\">\n",
       "             Nikolas\n",
       " </a>\n",
       " </h1>, <h1 class=\"h3 lh-condensed\">\n",
       " <a href=\"/Andarist\">\n",
       "             Mateusz Burzyński\n",
       " </a>\n",
       " </h1>]"
      ]
     },
     "execution_count": 22,
     "metadata": {},
     "output_type": "execute_result"
    }
   ],
   "source": [
    "lista_desarrolladores_larga = soup.find_all('h1', 'h3 lh-condensed') #estos los buscas en el devtools de google (yo googlé los nombres y aparece estas siglas)\n",
    "lista_desarrolladores_larga"
   ]
  },
  {
   "cell_type": "code",
   "execution_count": 25,
   "metadata": {},
   "outputs": [
    {
     "data": {
      "text/plain": [
       "['Jared Palmer',\n",
       " 'Rich Harris',\n",
       " 'Milos Kozak',\n",
       " 'Kishikawa Katsumi',\n",
       " 'Francois Zaninotto',\n",
       " 'Unknwon',\n",
       " 'Jonah Williams',\n",
       " 'Alex Ellis',\n",
       " 'Greg Hurrell',\n",
       " 'Michiel Borkent',\n",
       " 'Filip Skokan',\n",
       " 'Brian Vaughn',\n",
       " 'Andreas Rumpf',\n",
       " 'Alex Reardon',\n",
       " 'Tony Arcieri',\n",
       " 'atomiks',\n",
       " 'Matthew Phillips',\n",
       " 'David Peter',\n",
       " 'Klaus Post',\n",
       " 'Remi Rousselet',\n",
       " 'Ron Buckton',\n",
       " 'Liu-Cheng Xu',\n",
       " 'Phillip Carter',\n",
       " 'Nikolas',\n",
       " 'Mateusz Burzyński']"
      ]
     },
     "execution_count": 25,
     "metadata": {},
     "output_type": "execute_result"
    }
   ],
   "source": [
    "#Vamos a limpiarla \n",
    "lista_desarrolladores_limpia = []\n",
    "for usuario in lista_desarrolladores_larga:\n",
    "    usuario = usuario.text\n",
    "    lista_desarrolladores_limpia.append(usuario.strip())\n",
    "\n",
    "lista_desarrolladores_limpia"
   ]
  },
  {
   "cell_type": "markdown",
   "metadata": {},
   "source": [
    "#### Display the names of the trending developers retrieved in the previous step.\n",
    "\n",
    "Your output should be a Python list of developer names. Each name should not contain any html tag.\n",
    "\n",
    "**Instructions:**\n",
    "\n",
    "1. Find out the html tag and class names used for the developer names. You can achieve this using Chrome DevTools.\n",
    "\n",
    "1. Use BeautifulSoup to extract all the html elements that contain the developer names.\n",
    "\n",
    "1. Use string manipulation techniques to replace whitespaces and linebreaks (i.e. `\\n`) in the *text* of each html element. Use a list to store the clean names.\n",
    "\n",
    "1. Print the list of names.\n",
    "\n",
    "Your output should look like below:\n",
    "\n",
    "```\n",
    "['trimstray (@trimstray)',\n",
    " 'joewalnes (JoeWalnes)',\n",
    " 'charlax (Charles-AxelDein)',\n",
    " 'ForrestKnight (ForrestKnight)',\n",
    " 'revery-ui (revery-ui)',\n",
    " 'alibaba (Alibaba)',\n",
    " 'Microsoft (Microsoft)',\n",
    " 'github (GitHub)',\n",
    " 'facebook (Facebook)',\n",
    " 'boazsegev (Bo)',\n",
    " 'google (Google)',\n",
    " 'cloudfetch',\n",
    " 'sindresorhus (SindreSorhus)',\n",
    " 'tensorflow',\n",
    " 'apache (TheApacheSoftwareFoundation)',\n",
    " 'DevonCrawford (DevonCrawford)',\n",
    " 'ARMmbed (ArmMbed)',\n",
    " 'vuejs (vuejs)',\n",
    " 'fastai (fast.ai)',\n",
    " 'QiShaoXuan (Qi)',\n",
    " 'joelparkerhenderson (JoelParkerHenderson)',\n",
    " 'torvalds (LinusTorvalds)',\n",
    " 'CyC2018',\n",
    " 'komeiji-satori (神楽坂覚々)',\n",
    " 'script-8']\n",
    " ```"
   ]
  },
  {
   "cell_type": "code",
   "execution_count": 40,
   "metadata": {},
   "outputs": [],
   "source": [
    "#your code\n",
    "\n",
    "ls_desarr_usuarios = soup.find_all('p', class_ = \"f4 text-normal mb-1\")\n",
    "\n",
    "ls_desarr_usuarios_limpia = []\n",
    "for user in ls_desarr_usuarios:\n",
    "    users = user.text\n",
    "    ls_desarr_usuarios_limpia.append(users.strip())"
   ]
  },
  {
   "cell_type": "code",
   "execution_count": 41,
   "metadata": {},
   "outputs": [
    {
     "data": {
      "text/plain": [
       "['Jared Palmer (jaredpalmer)',\n",
       " 'Rich Harris (Rich-Harris)',\n",
       " 'Milos Kozak (MilosKozak)',\n",
       " 'Kishikawa Katsumi (kishikawakatsumi)',\n",
       " 'Francois Zaninotto (fzaninotto)',\n",
       " 'Unknwon (unknwon)',\n",
       " 'Jonah Williams (jonahwilliams)',\n",
       " 'Alex Ellis (alexellis)',\n",
       " 'Greg Hurrell (wincent)',\n",
       " 'Michiel Borkent (borkdude)',\n",
       " 'Filip Skokan (panva)',\n",
       " 'Brian Vaughn (bvaughn)',\n",
       " 'Andreas Rumpf (Araq)',\n",
       " 'Alex Reardon (alexreardon)',\n",
       " 'Tony Arcieri (tarcieri)',\n",
       " 'atomiks (matthewp)',\n",
       " 'Matthew Phillips (sharkdp)',\n",
       " 'David Peter (klauspost)',\n",
       " 'Klaus Post (rrousselGit)',\n",
       " 'Remi Rousselet (rbuckton)',\n",
       " 'Ron Buckton (liuchengxu)',\n",
       " 'Liu-Cheng Xu (cartermp)',\n",
       " 'Phillip Carter (nikolasburk)',\n",
       " 'Nikolas (Andarist)']"
      ]
     },
     "execution_count": 41,
     "metadata": {},
     "output_type": "execute_result"
    }
   ],
   "source": [
    "lista = [f'{nameUser} ({User})' for nameUser, User in list(zip(lista_desarrolladores_limpia, ls_desarr_usuarios_limpia))]\n",
    "lista"
   ]
  },
  {
   "cell_type": "markdown",
   "metadata": {},
   "source": [
    "#### Display the trending Python repositories in GitHub\n",
    "\n",
    "The steps to solve this problem is similar to the previous one except that you need to find out the repository names instead of developer names."
   ]
  },
  {
   "cell_type": "code",
   "execution_count": 43,
   "metadata": {},
   "outputs": [],
   "source": [
    "# This is the url you will scrape in this exercise\n",
    "url = 'https://github.com/trending/python?since=daily'\n",
    "import re"
   ]
  },
  {
   "cell_type": "code",
   "execution_count": 45,
   "metadata": {},
   "outputs": [
    {
     "data": {
      "text/plain": [
       "[]"
      ]
     },
     "execution_count": 45,
     "metadata": {},
     "output_type": "execute_result"
    }
   ],
   "source": [
    "#your code\n",
    "\n",
    "#Ok, algo está fallando aquí\n",
    "repositorios = soup.find_all('h3 lh-condensed')\n",
    "\n",
    "repositorios_limpios = []\n",
    "for repo in repositorios:\n",
    "    repos = repo.text\n",
    "    repositorios.append(repos.strip())\n",
    "    \n",
    "repositorios_limpios\n"
   ]
  },
  {
   "cell_type": "markdown",
   "metadata": {},
   "source": [
    "#### Display all the image links from Walt Disney wikipedia page"
   ]
  },
  {
   "cell_type": "code",
   "execution_count": 60,
   "metadata": {},
   "outputs": [],
   "source": [
    "# This is the url you will scrape in this exercise\n",
    "url_disney = 'https://en.wikipedia.org/wiki/Walt_Disney'"
   ]
  },
  {
   "cell_type": "code",
   "execution_count": 62,
   "metadata": {},
   "outputs": [
    {
     "data": {
      "text/plain": [
       "['//upload.wikimedia.org/wikipedia/en/thumb/e/e7/Cscr-featured.svg/20px-Cscr-featured.svg.png',\n",
       " '//upload.wikimedia.org/wikipedia/en/thumb/1/1b/Semi-protection-shackle.svg/20px-Semi-protection-shackle.svg.png',\n",
       " '//upload.wikimedia.org/wikipedia/commons/thumb/d/df/Walt_Disney_1946.JPG/220px-Walt_Disney_1946.JPG',\n",
       " '//upload.wikimedia.org/wikipedia/commons/thumb/8/87/Walt_Disney_1942_signature.svg/150px-Walt_Disney_1942_signature.svg.png',\n",
       " '//upload.wikimedia.org/wikipedia/commons/thumb/c/c4/Walt_Disney_envelope_ca._1921.jpg/220px-Walt_Disney_envelope_ca._1921.jpg',\n",
       " '//upload.wikimedia.org/wikipedia/commons/thumb/4/4d/Newman_Laugh-O-Gram_%281921%29.webm/220px-seek%3D2-Newman_Laugh-O-Gram_%281921%29.webm.jpg',\n",
       " '//upload.wikimedia.org/wikipedia/commons/thumb/0/0d/Trolley_Troubles_poster.jpg/170px-Trolley_Troubles_poster.jpg',\n",
       " '//upload.wikimedia.org/wikipedia/commons/thumb/7/71/Walt_Disney_and_his_cartoon_creation_%22Mickey_Mouse%22_-_National_Board_of_Review_Magazine.jpg/170px-Walt_Disney_and_his_cartoon_creation_%22Mickey_Mouse%22_-_National_Board_of_Review_Magazine.jpg',\n",
       " '//upload.wikimedia.org/wikipedia/en/thumb/4/4e/Steamboat-willie.jpg/170px-Steamboat-willie.jpg',\n",
       " '//upload.wikimedia.org/wikipedia/commons/thumb/5/57/Walt_Disney_1935.jpg/170px-Walt_Disney_1935.jpg',\n",
       " '//upload.wikimedia.org/wikipedia/commons/thumb/c/cd/Walt_Disney_Snow_white_1937_trailer_screenshot_%2813%29.jpg/220px-Walt_Disney_Snow_white_1937_trailer_screenshot_%2813%29.jpg',\n",
       " '//upload.wikimedia.org/wikipedia/commons/thumb/1/15/Disney_drawing_goofy.jpg/170px-Disney_drawing_goofy.jpg',\n",
       " '//upload.wikimedia.org/wikipedia/commons/thumb/1/13/DisneySchiphol1951.jpg/220px-DisneySchiphol1951.jpg',\n",
       " '//upload.wikimedia.org/wikipedia/commons/thumb/8/8c/WaltDisneyplansDisneylandDec1954.jpg/220px-WaltDisneyplansDisneylandDec1954.jpg',\n",
       " '//upload.wikimedia.org/wikipedia/commons/thumb/f/ff/Walt_disney_portrait_right.jpg/170px-Walt_disney_portrait_right.jpg',\n",
       " '//upload.wikimedia.org/wikipedia/commons/thumb/1/1a/Walt_Disney_Grave.JPG/170px-Walt_Disney_Grave.JPG',\n",
       " '//upload.wikimedia.org/wikipedia/commons/thumb/2/2d/Roy_O._Disney_with_Company_at_Press_Conference.jpg/170px-Roy_O._Disney_with_Company_at_Press_Conference.jpg',\n",
       " '//upload.wikimedia.org/wikipedia/commons/thumb/a/a9/Disney_Display_Case.JPG/170px-Disney_Display_Case.JPG',\n",
       " '//upload.wikimedia.org/wikipedia/commons/thumb/6/6c/Disney1968.jpg/170px-Disney1968.jpg',\n",
       " '//upload.wikimedia.org/wikipedia/en/thumb/8/8a/OOjs_UI_icon_edit-ltr-progressive.svg/10px-OOjs_UI_icon_edit-ltr-progressive.svg.png',\n",
       " '//upload.wikimedia.org/wikipedia/commons/thumb/d/da/Animation_disc.svg/30px-Animation_disc.svg.png',\n",
       " '//upload.wikimedia.org/wikipedia/en/thumb/6/69/P_vip.svg/29px-P_vip.svg.png',\n",
       " '//upload.wikimedia.org/wikipedia/commons/thumb/1/1a/Magic_Kingdom_castle.jpg/24px-Magic_Kingdom_castle.jpg',\n",
       " '//upload.wikimedia.org/wikipedia/en/thumb/e/e7/Video-x-generic.svg/30px-Video-x-generic.svg.png',\n",
       " '//upload.wikimedia.org/wikipedia/commons/thumb/a/a3/Flag_of_Los_Angeles_County%2C_California.svg/30px-Flag_of_Los_Angeles_County%2C_California.svg.png',\n",
       " '//upload.wikimedia.org/wikipedia/commons/thumb/8/8c/Blank_television_set.svg/30px-Blank_television_set.svg.png',\n",
       " '//upload.wikimedia.org/wikipedia/en/thumb/a/a4/Flag_of_the_United_States.svg/30px-Flag_of_the_United_States.svg.png',\n",
       " '//upload.wikimedia.org/wikipedia/en/thumb/4/4a/Commons-logo.svg/22px-Commons-logo.svg.png',\n",
       " '//upload.wikimedia.org/wikipedia/commons/thumb/f/fa/Wikiquote-logo.svg/25px-Wikiquote-logo.svg.png',\n",
       " '//upload.wikimedia.org/wikipedia/commons/thumb/f/ff/Wikidata-logo.svg/30px-Wikidata-logo.svg.png',\n",
       " '//upload.wikimedia.org/wikipedia/en/thumb/8/8a/OOjs_UI_icon_edit-ltr-progressive.svg/10px-OOjs_UI_icon_edit-ltr-progressive.svg.png',\n",
       " '//en.wikipedia.org/wiki/Special:CentralAutoLogin/start?type=1x1',\n",
       " '/static/images/wikimedia-button.png',\n",
       " '/static/images/poweredby_mediawiki_88x31.png']"
      ]
     },
     "execution_count": 62,
     "metadata": {},
     "output_type": "execute_result"
    }
   ],
   "source": [
    "#your code\n",
    "\n",
    "#1) retrieve the data from the url\n",
    "html = requests.get(url_disney).content #OBTIENE LA INFO DEL HTLM\n",
    "\n",
    "#2) haz la sopa de contenido\n",
    "soup_disney = BeautifulSoup(html,features=\"html.parser\") #LO HACE EN LA SOPA de disney\n",
    "\n",
    "#3) Identifica con find_all el código para lo que buscas\n",
    "imagenes = soup_disney.find_all('img')\n",
    "\n",
    "#4) Haz un loop para guardar todo\n",
    "ls_ligas_imagenes =[]\n",
    "for i in imagenes:\n",
    "    ls_ligas_imagenes.append(i.get('src'))\n",
    "\n",
    "ls_ligas_imagenes"
   ]
  },
  {
   "cell_type": "markdown",
   "metadata": {},
   "source": [
    "#### Retrieve an arbitary Wikipedia page of \"Python\" and create a list of links on that page"
   ]
  },
  {
   "cell_type": "code",
   "execution_count": 65,
   "metadata": {},
   "outputs": [],
   "source": [
    "# This is the url you will scrape in this exercise\n",
    "url_python ='https://en.wikipedia.org/wiki/Python' "
   ]
  },
  {
   "cell_type": "code",
   "execution_count": 76,
   "metadata": {},
   "outputs": [
    {
     "name": "stdout",
     "output_type": "stream",
     "text": [
      "['/w/index.php?title=Python&action=edit&section=1', '/wiki/Pythonidae', '/wiki/Python_(genus)', '/w/index.php?title=Python&action=edit&section=2', '/wiki/Python_(mythology)', '/wiki/Python_of_Aenus', '/wiki/Python_(painter)', '/wiki/Python_of_Byzantium', '/wiki/Python_of_Catana', '/w/index.php?title=Python&action=edit&section=3', '/wiki/Python_(film)', '/wiki/Pythons_2', '/wiki/Monty_Python', '/wiki/Python_(Monty)_Pictures', '/w/index.php?title=Python&action=edit&section=4', '/wiki/Python_(programming_language)', '/wiki/CPython', '/wiki/CMU_Common_Lisp', '/wiki/PERQ#PERQ_3', '/w/index.php?title=Python&action=edit&section=5', '/w/index.php?title=Python&action=edit&section=6', '/wiki/Python_(Busch_Gardens_Tampa_Bay)', '/wiki/Python_(Coney_Island,_Cincinnati,_Ohio)', '/wiki/Python_(Efteling)', '/w/index.php?title=Python&action=edit&section=7', '/wiki/Python_(automobile_maker)', '/wiki/Python_(Ford_prototype)', '/w/index.php?title=Python&action=edit&section=8', '/wiki/Colt_Python', '/wiki/Python_(missile)', '/wiki/Python_(nuclear_primary)', '/w/index.php?title=Python&action=edit&section=9', '/wiki/Python_Anghelo', '/w/index.php?title=Python&action=edit&section=10', '/wiki/PYTHON', '/w/index.php?title=Python&action=edit&section=11', '/wiki/Cython', '/wiki/Pyton', '/wiki/File:Disambig_gray.svg', '/wiki/Help:Disambiguation', '/wiki/Help:Category', '/wiki/Category:Disambiguation_pages', '/wiki/Category:Disambiguation_pages_with_short_description', '/wiki/Category:All_article_disambiguation_pages', '/wiki/Category:All_disambiguation_pages', '/wiki/Category:Animal_common_name_disambiguation_pages', '/wiki/Special:MyTalk', '/wiki/Special:MyContributions', '/w/index.php?title=Special:CreateAccount&returnto=Python', '/w/index.php?title=Special:UserLogin&returnto=Python', '/wiki/Python', '/wiki/Talk:Python', '/wiki/Python', '/w/index.php?title=Python&action=edit', '/w/index.php?title=Python&action=history', '/wiki/Main_Page', '/wiki/Main_Page', '/wiki/Portal:Contents', '/wiki/Portal:Featured_content', '/wiki/Portal:Current_events', '/wiki/Special:Random', '//shop.wikimedia.org', '/wiki/Help:Contents', '/wiki/Wikipedia:About', '/wiki/Wikipedia:Community_portal', '/wiki/Special:RecentChanges', '//en.wikipedia.org/wiki/Wikipedia:Contact_us', '/wiki/Special:WhatLinksHere/Python', '/wiki/Special:RecentChangesLinked/Python', '/wiki/Wikipedia:File_Upload_Wizard', '/wiki/Special:SpecialPages', '/w/index.php?title=Python&oldid=922496613', '/w/index.php?title=Python&action=info', '/w/index.php?title=Special:CiteThisPage&page=Python&id=922496613', '/w/index.php?title=Special:Book&bookcmd=book_creator&referer=Python', '/w/index.php?title=Special:ElectronPdf&page=Python&action=show-download-screen', '/w/index.php?title=Python&printable=yes', '//en.wikipedia.org/wiki/Wikipedia:Text_of_Creative_Commons_Attribution-ShareAlike_3.0_Unported_License', '//creativecommons.org/licenses/by-sa/3.0/', '//foundation.wikimedia.org/wiki/Terms_of_Use', '//foundation.wikimedia.org/wiki/Privacy_policy', '//www.wikimediafoundation.org/', '/wiki/Wikipedia:About', '/wiki/Wikipedia:General_disclaimer', '//en.wikipedia.org/wiki/Wikipedia:Contact_us', '//en.m.wikipedia.org/w/index.php?title=Python&mobileaction=toggle_view_mobile']\n"
     ]
    }
   ],
   "source": [
    "#your code\n",
    "\n",
    "#1) retrieve the data from the url\n",
    "html = requests.get(url_python).content #OBTIENE LA INFO DEL HTLM\n",
    "\n",
    "#2) haz la sopa de contenido\n",
    "soup_python = BeautifulSoup(html,features=\"html.parser\") #LO HACE EN LA SOPA de pythom\n",
    "\n",
    "#3) Identifica con find_all el código para lo que buscas\n",
    "ligas = soup_python.find_all(\"a\")\n",
    "\n",
    "#4) Haz un loop para guardar todo\n",
    "ls_ligas =[]\n",
    "for liga in ligas:\n",
    "    comprobación = liga.get('href')\n",
    "    if comprobación != None:\n",
    "        if comprobación[0] == '/':\n",
    "            ls_ligas.append(comprobación)\n",
    "\n",
    "#ls_ligas\n",
    "print(ls_ligas)"
   ]
  },
  {
   "cell_type": "markdown",
   "metadata": {},
   "source": [
    "#### Number of Titles that have changed in the United States Code since its last release point "
   ]
  },
  {
   "cell_type": "code",
   "execution_count": 77,
   "metadata": {},
   "outputs": [],
   "source": [
    "# This is the url you will scrape in this exercise\n",
    "url_titles = 'http://uscode.house.gov/download/download.shtml'"
   ]
  },
  {
   "cell_type": "code",
   "execution_count": 84,
   "metadata": {},
   "outputs": [
    {
     "name": "stdout",
     "output_type": "stream",
     "text": [
      "['Title 6 - Domestic Security', 'Title 31 - Money and Finance ٭']\n"
     ]
    }
   ],
   "source": [
    "#your code\n",
    "\n",
    "#1) retrieve the data from the url\n",
    "html = requests.get(url_titles).content #OBTIENE LA INFO DEL HTLM\n",
    "\n",
    "#2) haz la sopa de contenido\n",
    "soup_titles = BeautifulSoup(html,features=\"html.parser\") #LO HACE EN LA SOPA de titulos cambiados\n",
    "\n",
    "#3) Identifica con find_all el código para lo que buscas\n",
    "titulos = soup_titles.find_all(class_='usctitlechanged')\n",
    "\n",
    "#4) Haz un loop para guardar todo\n",
    "ls_titulos_cambiados =[]\n",
    "for titulo in titulos:\n",
    "    titulocambiado = titulo.text   #AQUI CONVERTIMOS EN TEXTO el titulo que se identificó cambiado\n",
    "    ls_titulos_cambiados.append(titulocambiado.strip())\n",
    "\n",
    "#OTRA FORMA ALTERNATIVA DE HACERLO\n",
    "#ls_titulos_cambiados =[]\n",
    "#for titulo in titulos:\n",
    "#    ls_titulos_cambiados.append(titulo)\n",
    "\n",
    "    \n",
    "print(ls_titulos_cambiados)\n"
   ]
  },
  {
   "cell_type": "markdown",
   "metadata": {},
   "source": [
    "#### A Python list with the top ten FBI's Most Wanted names "
   ]
  },
  {
   "cell_type": "code",
   "execution_count": 87,
   "metadata": {},
   "outputs": [],
   "source": [
    "# This is the url you will scrape in this exercise\n",
    "url_fbi = 'https://www.fbi.gov/wanted/topten'"
   ]
  },
  {
   "cell_type": "code",
   "execution_count": 91,
   "metadata": {},
   "outputs": [
    {
     "name": "stdout",
     "output_type": "stream",
     "text": [
      "[]\n"
     ]
    }
   ],
   "source": [
    "#your code \n",
    "\n",
    "#1) retrieve the data from the url\n",
    "html = requests.get(url_fbi).content #OBTIENE LA INFO DEL HTLM\n",
    "\n",
    "#2) haz la sopa de contenido\n",
    "soup_fbi = BeautifulSoup(html,features=\"html.parser\") #LO HACE EN LA SOPA de titulos cambiados\n",
    "\n",
    "#3) Identifica con find_all el código para lo que buscas\n",
    "masbuscados = soup_fbi.find_all('a href')\n",
    "\n",
    "#4) Haz un loop para guardar todo\n",
    "ls_masbuscados =[]\n",
    "for masbuscado in masbuscados:\n",
    "    ls_masbuscados.append(masbuscado)\n",
    "\n",
    "print(ls_masbuscados)"
   ]
  },
  {
   "cell_type": "markdown",
   "metadata": {},
   "source": [
    "####  20 latest earthquakes info (date, time, latitude, longitude and region name) by the EMSC as a pandas dataframe"
   ]
  },
  {
   "cell_type": "code",
   "execution_count": null,
   "metadata": {},
   "outputs": [],
   "source": [
    "# This is the url you will scrape in this exercise\n",
    "url = 'https://www.emsc-csem.org/Earthquake/'"
   ]
  },
  {
   "cell_type": "code",
   "execution_count": null,
   "metadata": {},
   "outputs": [],
   "source": [
    "#your code"
   ]
  },
  {
   "cell_type": "markdown",
   "metadata": {},
   "source": [
    "#### Display the date, and title of upcoming hackathon events as a Pandas dataframe table"
   ]
  },
  {
   "cell_type": "code",
   "execution_count": null,
   "metadata": {},
   "outputs": [],
   "source": [
    "# This is the url you will scrape in this exercise\n",
    "url ='https://hackevents.co/hackathons'"
   ]
  },
  {
   "cell_type": "code",
   "execution_count": null,
   "metadata": {},
   "outputs": [],
   "source": [
    "#your code"
   ]
  },
  {
   "cell_type": "markdown",
   "metadata": {},
   "source": [
    "#### Count number of tweets by a given Twitter account."
   ]
  },
  {
   "cell_type": "markdown",
   "metadata": {},
   "source": [
    "You will need to include a ***try/except block*** for account names not found. \n",
    "<br>***Hint:*** the program should count the number of tweets for any provided account"
   ]
  },
  {
   "cell_type": "code",
   "execution_count": null,
   "metadata": {},
   "outputs": [],
   "source": [
    "# This is the url you will scrape in this exercise \n",
    "# You will need to add the account credentials to this url\n",
    "url = 'https://twitter.com/'"
   ]
  },
  {
   "cell_type": "code",
   "execution_count": null,
   "metadata": {},
   "outputs": [],
   "source": [
    "#your code"
   ]
  },
  {
   "cell_type": "markdown",
   "metadata": {},
   "source": [
    "#### Number of followers of a given twitter account"
   ]
  },
  {
   "cell_type": "markdown",
   "metadata": {},
   "source": [
    "You will need to include a ***try/except block*** in case account/s name not found. \n",
    "<br>***Hint:*** the program should count the followers for any provided account"
   ]
  },
  {
   "cell_type": "code",
   "execution_count": null,
   "metadata": {},
   "outputs": [],
   "source": [
    "# This is the url you will scrape in this exercise \n",
    "# You will need to add the account credentials to this url\n",
    "url = 'https://twitter.com/'"
   ]
  },
  {
   "cell_type": "code",
   "execution_count": null,
   "metadata": {},
   "outputs": [],
   "source": [
    "#your code"
   ]
  },
  {
   "cell_type": "markdown",
   "metadata": {},
   "source": [
    "#### List all language names and number of related articles in the order they appear in wikipedia.org"
   ]
  },
  {
   "cell_type": "code",
   "execution_count": null,
   "metadata": {},
   "outputs": [],
   "source": [
    "# This is the url you will scrape in this exercise\n",
    "url = 'https://www.wikipedia.org/'"
   ]
  },
  {
   "cell_type": "code",
   "execution_count": null,
   "metadata": {},
   "outputs": [],
   "source": [
    "#your code"
   ]
  },
  {
   "cell_type": "markdown",
   "metadata": {},
   "source": [
    "#### A list with the different kind of datasets available in data.gov.uk "
   ]
  },
  {
   "cell_type": "code",
   "execution_count": null,
   "metadata": {},
   "outputs": [],
   "source": [
    "# This is the url you will scrape in this exercise\n",
    "url = 'https://data.gov.uk/'"
   ]
  },
  {
   "cell_type": "code",
   "execution_count": null,
   "metadata": {},
   "outputs": [],
   "source": [
    "#your code "
   ]
  },
  {
   "cell_type": "markdown",
   "metadata": {},
   "source": [
    "#### Top 10 languages by number of native speakers stored in a Pandas Dataframe"
   ]
  },
  {
   "cell_type": "code",
   "execution_count": null,
   "metadata": {},
   "outputs": [],
   "source": [
    "# This is the url you will scrape in this exercise\n",
    "url = 'https://en.wikipedia.org/wiki/List_of_languages_by_number_of_native_speakers'"
   ]
  },
  {
   "cell_type": "code",
   "execution_count": null,
   "metadata": {},
   "outputs": [],
   "source": [
    "#your code"
   ]
  },
  {
   "cell_type": "markdown",
   "metadata": {},
   "source": [
    "### BONUS QUESTIONS"
   ]
  },
  {
   "cell_type": "markdown",
   "metadata": {},
   "source": [
    "#### Scrape a certain number of tweets of a given Twitter account."
   ]
  },
  {
   "cell_type": "code",
   "execution_count": null,
   "metadata": {},
   "outputs": [],
   "source": [
    "# This is the url you will scrape in this exercise \n",
    "# You will need to add the account credentials to this url\n",
    "url = 'https://twitter.com/'"
   ]
  },
  {
   "cell_type": "code",
   "execution_count": null,
   "metadata": {},
   "outputs": [],
   "source": [
    "# your code"
   ]
  },
  {
   "cell_type": "markdown",
   "metadata": {},
   "source": [
    "#### IMDB's Top 250 data (movie name, Initial release, director name and stars) as a pandas dataframe"
   ]
  },
  {
   "cell_type": "code",
   "execution_count": null,
   "metadata": {},
   "outputs": [],
   "source": [
    "# This is the url you will scrape in this exercise \n",
    "url = 'https://www.imdb.com/chart/top'"
   ]
  },
  {
   "cell_type": "code",
   "execution_count": null,
   "metadata": {},
   "outputs": [],
   "source": [
    "#your code"
   ]
  },
  {
   "cell_type": "markdown",
   "metadata": {},
   "source": [
    "#### Find the live weather report (temperature, wind speed, description and weather) of a given city."
   ]
  },
  {
   "cell_type": "code",
   "execution_count": null,
   "metadata": {},
   "outputs": [],
   "source": [
    "#https://openweathermap.org/current\n",
    "city = city=input('Enter the city:')\n",
    "url = 'http://api.openweathermap.org/data/2.5/weather?'+'q='+city+'&APPID=b35975e18dc93725acb092f7272cc6b8&units=metric'"
   ]
  },
  {
   "cell_type": "code",
   "execution_count": null,
   "metadata": {},
   "outputs": [],
   "source": [
    "# your code"
   ]
  },
  {
   "cell_type": "markdown",
   "metadata": {},
   "source": [
    "#### Book name, price and stock availability as a pandas dataframe."
   ]
  },
  {
   "cell_type": "code",
   "execution_count": null,
   "metadata": {},
   "outputs": [],
   "source": [
    "# This is the url you will scrape in this exercise. \n",
    "# It is a fictional bookstore created to be scraped. \n",
    "url = 'http://books.toscrape.com/'"
   ]
  },
  {
   "cell_type": "code",
   "execution_count": null,
   "metadata": {},
   "outputs": [],
   "source": [
    "#your code"
   ]
  }
 ],
 "metadata": {
  "kernelspec": {
   "display_name": "Python 3",
   "language": "python",
   "name": "python3"
  },
  "language_info": {
   "codemirror_mode": {
    "name": "ipython",
    "version": 3
   },
   "file_extension": ".py",
   "mimetype": "text/x-python",
   "name": "python",
   "nbconvert_exporter": "python",
   "pygments_lexer": "ipython3",
   "version": "3.7.3"
  }
 },
 "nbformat": 4,
 "nbformat_minor": 2
}
